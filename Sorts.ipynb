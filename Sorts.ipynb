{
  "nbformat": 4,
  "nbformat_minor": 0,
  "metadata": {
    "colab": {
      "name": "Sorts.ipynb",
      "provenance": [],
      "authorship_tag": "ABX9TyPHpvvaVPcSaexn57+eb9xf",
      "include_colab_link": true
    },
    "kernelspec": {
      "name": "python3",
      "display_name": "Python 3"
    }
  },
  "cells": [
    {
      "cell_type": "markdown",
      "metadata": {
        "id": "view-in-github",
        "colab_type": "text"
      },
      "source": [
        "<a href=\"https://colab.research.google.com/github/SwadhinBaroi/Algorithms/blob/master/Sorts.ipynb\" target=\"_parent\"><img src=\"https://colab.research.google.com/assets/colab-badge.svg\" alt=\"Open In Colab\"/></a>"
      ]
    },
    {
      "cell_type": "code",
      "metadata": {
        "id": "TseR2wMbcuCL",
        "colab_type": "code",
        "outputId": "4d0c1be0-c412-43bf-99bb-19257bf84ac5",
        "colab": {
          "base_uri": "https://localhost:8080/",
          "height": 67
        }
      },
      "source": [
        "def insertionSort(A):\n",
        "  length=len(A)\n",
        "\n",
        "  for j in range(1,length):\n",
        "    key=A[j]\n",
        "    i=j-1\n",
        "    while i>-1 and A[i]>key:\n",
        "      A[i+1]=A[i]\n",
        "      i=i-1\n",
        "    A[i+1]=key\n",
        "\n",
        "  print(A)\n",
        "\n",
        "\n",
        "\n",
        "def countingSort(A):\n",
        "  \n",
        "  length=len(A)\n",
        "  k=0\n",
        "  for m in range(0,length):\n",
        "    if(A[m]>k):\n",
        "      k=A[m]\n",
        "    \n",
        " \n",
        "  B=[0]*length\n",
        "  C=[0]*100\n",
        " \n",
        "  \n",
        "  for i in range(0,k+1):\n",
        "    C[i]=0\n",
        "    \n",
        "  for j in range(0,length):\n",
        "    C[A[j]]=C[A[j]]+1\n",
        "  \n",
        "  for i in range(1,k+1):\n",
        "    C[i]=C[i]+C[i-1]\n",
        " \n",
        "  for j in range(length-1,-1,-1):\n",
        "    B[C[A[j]]-1]=A[j]\n",
        "    C[A[j]]=C[A[j]]-1\n",
        "  print(B)\n",
        "\n",
        "\n",
        "def bubbleSort(A):\n",
        "  \n",
        "  length=len(A)\n",
        "  for i in range(0,length-1):\n",
        "    for j in range(length-1,0+i,-1):\n",
        "      if(A[j]<A[j-1]):\n",
        "        A[j],A[j-1]=A[j-1],A[j]\n",
        "  print(A)\n",
        "\n",
        "\n",
        "\n",
        "A=[12,1,23,4,34,11,49]\n",
        "insertionSort(A)\n",
        "countingSort(A)\n",
        "bubbleSort(A)\n"
      ],
      "execution_count": 6,
      "outputs": [
        {
          "output_type": "stream",
          "text": [
            "[1, 4, 11, 12, 23, 34, 49]\n",
            "[1, 4, 11, 12, 23, 34, 49]\n",
            "[1, 4, 11, 12, 23, 34, 49]\n"
          ],
          "name": "stdout"
        }
      ]
    }
  ]
}