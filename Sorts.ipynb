{
  "nbformat": 4,
  "nbformat_minor": 0,
  "metadata": {
    "colab": {
      "name": "Sorts.ipynb",
      "provenance": [],
      "authorship_tag": "ABX9TyP+bH5++p5h1KQvxCB6oWBv",
      "include_colab_link": true
    },
    "kernelspec": {
      "name": "python3",
      "display_name": "Python 3"
    }
  },
  "cells": [
    {
      "cell_type": "markdown",
      "metadata": {
        "id": "view-in-github",
        "colab_type": "text"
      },
      "source": [
        "<a href=\"https://colab.research.google.com/github/SwadhinBaroi/Algorithms/blob/master/Sorts.ipynb\" target=\"_parent\"><img src=\"https://colab.research.google.com/assets/colab-badge.svg\" alt=\"Open In Colab\"/></a>"
      ]
    },
    {
      "cell_type": "code",
      "metadata": {
        "id": "TseR2wMbcuCL",
        "colab_type": "code",
        "outputId": "071a980f-6d9f-499f-c38f-38d369a9482a",
        "colab": {
          "base_uri": "https://localhost:8080/",
          "height": 84
        }
      },
      "source": [
        "def insertionSort(A):\n",
        "  length=len(A)\n",
        "\n",
        "  for j in range(1,length):\n",
        "    key=A[j]\n",
        "    i=j-1\n",
        "    while i>-1 and A[i]>key:\n",
        "      A[i+1]=A[i]\n",
        "      i=i-1\n",
        "    A[i+1]=key\n",
        "\n",
        "  print(A)\n",
        "\n",
        "\n",
        "\n",
        "def countingSort(A):\n",
        "  \n",
        "  length=len(A)\n",
        "  k=0\n",
        "  for m in range(0,length):\n",
        "    if(A[m]>k):\n",
        "      k=A[m]\n",
        "    \n",
        " \n",
        "  B=[0]*length\n",
        "  C=[0]*100\n",
        " \n",
        "  \n",
        "  for i in range(0,k+1):\n",
        "    C[i]=0\n",
        "    \n",
        "  for j in range(0,length):\n",
        "    C[A[j]]=C[A[j]]+1\n",
        "  \n",
        "  for i in range(1,k+1):\n",
        "    C[i]=C[i]+C[i-1]\n",
        " \n",
        "  for j in range(length-1,-1,-1):\n",
        "    B[C[A[j]]-1]=A[j]\n",
        "    C[A[j]]=C[A[j]]-1\n",
        "  print(B)\n",
        "\n",
        "\n",
        "def bubbleSort(A):\n",
        "  \n",
        "  length=len(A)\n",
        "  for i in range(0,length-1):\n",
        "    for j in range(length-1,0+i,-1):\n",
        "      if(A[j]<A[j-1]):\n",
        "        A[j],A[j-1]=A[j-1],A[j]\n",
        "  print(A)\n",
        "\n",
        "def MergeSort(A,p,r):\n",
        "  if(p<r):\n",
        "    q= int((p+r)/2)\n",
        "    MergeSort(A,p,q)\n",
        "    MergeSort(A,q+1,r)\n",
        "    Merge(A,p,q,r)\n",
        "\n",
        "\n",
        "def Merge(A,p,q,r):\n",
        "  n1=q-p+1\n",
        "  n2=r-q\n",
        "  L=[0]*(n1+1)\n",
        "  R=[0]*(n2+1)\n",
        "  for i in range(0,n1):\n",
        "    L[i]=A[p+i]\n",
        "  for j in range(0,n2):\n",
        "    R[j]=A[q+j+1]\n",
        "  L[n1]=100000\n",
        "  R[n2]=100000\n",
        "  i=0\n",
        "  j=0\n",
        "  for k in range(p,r+1):\n",
        "    if(L[i]<=R[j]):\n",
        "      A[k]=L[i]\n",
        "      i=i+1\n",
        "    else:\n",
        "      A[k]=R[j]\n",
        "      j=j+1\n",
        "\n",
        "\n",
        "\n",
        "A=[12,1,23,4,34,11,49]\n",
        "insertionSort(A)\n",
        "countingSort(A)\n",
        "bubbleSort(A)\n",
        "p=0\n",
        "r=len(A)\n",
        "MergeSort(A,p,r-1)\n",
        "print(A)"
      ],
      "execution_count": 4,
      "outputs": [
        {
          "output_type": "stream",
          "text": [
            "[1, 4, 11, 12, 23, 34, 49]\n",
            "[1, 4, 11, 12, 23, 34, 49]\n",
            "[1, 4, 11, 12, 23, 34, 49]\n",
            "[1, 4, 11, 12, 23, 34, 49]\n"
          ],
          "name": "stdout"
        }
      ]
    }
  ]
}